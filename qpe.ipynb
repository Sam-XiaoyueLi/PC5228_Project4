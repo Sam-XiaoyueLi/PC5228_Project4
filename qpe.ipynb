{
 "cells": [
  {
   "cell_type": "code",
   "execution_count": 1,
   "metadata": {},
   "outputs": [],
   "source": [
    "#initialization\n",
    "import matplotlib.pyplot as plt\n",
    "import numpy as np\n",
    "import math\n",
    "from qiskit import QuantumCircuit\n",
    "from qiskit.circuit.library import QFT\n",
    "from qiskit.quantum_info import Statevector\n",
    "from qiskit.primitives import Sampler\n",
    "from qiskit.visualization import plot_histogram, plot_bloch_vector, plot_state_qsphere\n",
    "from qiskit.quantum_info import Operator"
   ]
  },
  {
   "cell_type": "code",
   "execution_count": 2,
   "metadata": {},
   "outputs": [],
   "source": [
    "# visualize eigenstate\n",
    "def to_bloch_vector(ucirc, statevector):\n",
    "    new_state = statevector.evolve(ucirc)\n",
    "    bloch_vector = [\n",
    "    new_state.expectation_value(Operator([[0, 1], [1, 0]])).real, # X\n",
    "    new_state.expectation_value(Operator([[0, -1j], [1j, 0]])).real, # Y\n",
    "    new_state.expectation_value(Operator([[1, 0], [0, -1]])).real # Z\n",
    "    ]\n",
    "    return bloch_vector\n",
    "# visualize eigenvalue\n",
    "def plot_complex_nmb(phasors):\n",
    "    # Create a new figure\n",
    "    plt.figure(figsize=(4, 4))\n",
    "    # plot each phasor as a vector\n",
    "    for phasor in phasors:\n",
    "        real = np.real(phasor)\n",
    "        imag = np.imag(phasor)\n",
    "        plt.quiver(0, 0, real, imag, angles='xy', scale_units='xy', scale=1, color='r')\n",
    "        plt.text(real * 1.1, imag * 1.1, f'{phasor:.2f}', fontsize=12)\n",
    "    # set up the plot axes\n",
    "    plt.xlim(-2, 2) # Adjust these limits based on your phasors\n",
    "    plt.ylim(-2, 2)\n",
    "    plt.axhline(0, color='black',linewidth=0.5)\n",
    "    plt.axvline(0, color='black',linewidth=0.5)\n",
    "    plt.xlabel('Real')\n",
    "    plt.ylabel('Imaginary')\n",
    "    plt.grid(True)\n",
    "    plt.gca().set_aspect('equal', adjustable='box')\n",
    "    plt.title('Phasor Diagram')\n",
    "    # show the plot\n",
    "    plt.show()    "
   ]
  },
  {
   "cell_type": "code",
   "execution_count": 9,
   "metadata": {},
   "outputs": [
    {
     "name": "stdout",
     "output_type": "stream",
     "text": [
      "Eigenvalues of Rx(pi/3):\n",
      "[0.8660254+0.5j 0.8660254-0.5j]\n",
      "\n",
      "Eigenstates of Rx(pi/3):\n",
      "Eigenstate 1:\n",
      "[-0.70710678-0.j  0.70710678+0.j]\n",
      "Eigenstate 2:\n",
      "[0.70710678+0.j 0.70710678+0.j]\n"
     ]
    }
   ],
   "source": [
    "# find eigenvalue and eigenstate\n",
    "# Define the angle for Rx\n",
    "theta = np.pi / 3\n",
    "\n",
    "# Define the Rx matrix for the given theta\n",
    "Rx = np.array([[np.cos(theta / 2), -1j * np.sin(theta / 2)],\n",
    "               [-1j * np.sin(theta / 2), np.cos(theta / 2)]])\n",
    "\n",
    "# Use numpy to find the eigenvalues and eigenvectors\n",
    "eigenvalues, eigenvectors = np.linalg.eig(Rx)\n",
    "\n",
    "# Display the eigenvalues and eigenvectors\n",
    "print(\"Eigenvalues of Rx(pi/3):\")\n",
    "print(eigenvalues)\n",
    "\n",
    "print(\"\\nEigenstates of Rx(pi/3):\")\n",
    "for i, eigenvector in enumerate(eigenvectors.T):\n",
    "    print(f\"Eigenstate {i + 1}:\")\n",
    "    print(eigenvector)"
   ]
  },
  {
   "cell_type": "code",
   "execution_count": 23,
   "metadata": {},
   "outputs": [
    {
     "data": {
      "text/plain": [
       "np.complex128(0.8660254037844387-0.49999999999999994j)"
      ]
     },
     "execution_count": 23,
     "metadata": {},
     "output_type": "execute_result"
    }
   ],
   "source": [
    "np.exp(-1j*theta/2)"
   ]
  },
  {
   "cell_type": "code",
   "execution_count": 22,
   "metadata": {},
   "outputs": [
    {
     "data": {
      "text/plain": [
       "array([1.11022302e-16-2.10709495e-17j, 1.11022302e-16-2.10709495e-17j])"
      ]
     },
     "execution_count": 22,
     "metadata": {},
     "output_type": "execute_result"
    }
   ],
   "source": [
    "Rx @ eigenvectors[1] / eigenvalues[1] - eigenvectors[1]"
   ]
  },
  {
   "cell_type": "code",
   "execution_count": 3,
   "metadata": {},
   "outputs": [],
   "source": [
    "phi = np.pi/3\n",
    "ucirc = QuantumCircuit(1,1)\n",
    "ucirc.rx(phi,0)\n",
    "state0 = Statevector([1,0])\n",
    "state1 = Statevector([0,1])\n",
    "plus = (state0+state1)/np.sqrt(2)\n",
    "minus = (state0-state1)/np.sqrt(2)\n",
    "bloch_0 = to_bloch_vector(ucirc, plus)\n",
    "bloch_1 = to_bloch_vector(ucirc, minus)\n",
    "# plot the Bloch vector\n",
    "plot_bloch_vector([bloch_0, bloch_1]).savefig('bloch.pdf')"
   ]
  },
  {
   "cell_type": "code",
   "execution_count": 4,
   "metadata": {},
   "outputs": [
    {
     "data": {
      "image/png": "[encoded data removed]",
      "text/plain": [
       "<Figure size 400x400 with 1 Axes>"
      ]
     },
     "metadata": {},
     "output_type": "display_data"
    }
   ],
   "source": [
    "phasors = [np.exp(-0.5j*phi), np.exp(0.5j*phi)]\n",
    "plot_complex_nmb(phasors)"
   ]
  },
  {
   "cell_type": "code",
   "execution_count": 7,
   "metadata": {},
   "outputs": [
    {
     "name": "stderr",
     "output_type": "stream",
     "text": [
      "/var/folders/sn/4ym_qb8x0cs_f961d78kvvkc0000gn/T/ipykernel_53629/1494548031.py:24: DeprecationWarning: The class ``qiskit.primitives.sampler.Sampler`` is deprecated as of qiskit 1.2. It will be removed no earlier than 3 months after the release date. All implementations of the `BaseSamplerV1` interface have been deprecated in favor of their V2 counterparts. The V2 alternative for the `Sampler` class is `StatevectorSampler`.\n",
      "  sampler = Sampler()\n"
     ]
    }
   ],
   "source": [
    "# create quantum circuit\n",
    "qc = QuantumCircuit(5, 4)\n",
    "# prepare eigenstate\n",
    "qc.x(4)\n",
    "qc.h(4)\n",
    "# step 1: add hadamard\n",
    "for qubit in range(4):\n",
    "    qc.h(qubit)\n",
    "    qc.barrier()\n",
    "# step 2: controlled unitary operations\n",
    "for reg1_index in range(4):\n",
    "    repetitions = 2**reg1_index \n",
    "    for i in range(repetitions):\n",
    "        qc.crx(phi, reg1_index, 4)\n",
    "qc.barrier()\n",
    "# step 3: IQFT on the first register\n",
    "iqft = QFT(num_qubits=4, inverse=True, insert_barriers=True)\n",
    "qc.append(iqft, [0,1,2,3])\n",
    "qc.barrier()\n",
    "# step 4: measurement\n",
    "for reg1_index in range(4):\n",
    "    qc.measure(reg1_index, reg1_index)\n",
    "qc.draw(output='mpl').savefig('qpe_4.pdf')\n",
    "sampler = Sampler()\n",
    "job = sampler.run(circuits=qc, shots=5000)\n",
    "result = job.result()"
   ]
  },
  {
   "cell_type": "code",
   "execution_count": 8,
   "metadata": {},
   "outputs": [
    {
     "name": "stdout",
     "output_type": "stream",
     "text": [
      "Measuremet result: {0: np.float64(0.0428), 1: np.float64(0.6804), 2: np.float64(0.1792), 3: np.float64(0.024), 4: np.float64(0.012), 5: np.float64(0.0086), 6: np.float64(0.0038), 7: np.float64(0.003), 8: np.float64(0.003), 9: np.float64(0.003), 10: np.float64(0.0038), 11: np.float64(0.0026), 12: np.float64(0.0036), 13: np.float64(0.0064), 14: np.float64(0.009), 15: np.float64(0.0148)}\n"
     ]
    }
   ],
   "source": [
    "# get the result counts and convert quasi-probabilities to probabilities\n",
    "counts = result.quasi_dists[0].binary_probabilities()\n",
    "# print result\n",
    "print(\"Measuremet result:\", result.quasi_dists[0])\n",
    "# plot the result as a histogram\n",
    "plt.rc('font', family='serif', serif='Times New Roman')\n",
    "plot_histogram(counts, figsize=(8,4.5)).savefig('hist_4.pdf')"
   ]
  },
  {
   "cell_type": "code",
   "execution_count": null,
   "metadata": {},
   "outputs": [],
   "source": []
  },
  {
   "cell_type": "code",
   "execution_count": null,
   "metadata": {},
   "outputs": [],
   "source": []
  },
  {
   "cell_type": "code",
   "execution_count": null,
   "metadata": {},
   "outputs": [],
   "source": []
  }
 ],
 "metadata": {
  "kernelspec": {
   "display_name": "qiskit",
   "language": "python",
   "name": "python3"
  },
  "language_info": {
   "codemirror_mode": {
    "name": "ipython",
    "version": 3
   },
   "file_extension": ".py",
   "mimetype": "text/x-python",
   "name": "python",
   "nbconvert_exporter": "python",
   "pygments_lexer": "ipython3",
   "version": "3.12.5"
  }
 },
 "nbformat": 4,
 "nbformat_minor": 2
}
