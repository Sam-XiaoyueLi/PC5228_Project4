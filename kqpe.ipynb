{
 "cells": [
  {
   "cell_type": "code",
   "execution_count": 87,
   "metadata": {},
   "outputs": [],
   "source": [
    "#initialization\n",
    "import matplotlib.pyplot as plt\n",
    "import numpy as np\n",
    "import math\n",
    "from qiskit import QuantumCircuit\n",
    "from qiskit.circuit.library import QFT\n",
    "from qiskit.quantum_info import Statevector\n",
    "from qiskit.primitives import Sampler\n",
    "from qiskit.visualization import plot_histogram, plot_bloch_vector, plot_state_qsphere\n",
    "from qiskit.quantum_info import Operator"
   ]
  },
  {
   "cell_type": "code",
   "execution_count": 88,
   "metadata": {},
   "outputs": [],
   "source": [
    "# visualize eigenstate\n",
    "def to_bloch_vector(ucirc, statevector):\n",
    "    new_state = statevector.evolve(ucirc)\n",
    "    bloch_vector = [\n",
    "    new_state.expectation_value(Operator([[0, 1], [1, 0]])).real, # X\n",
    "    new_state.expectation_value(Operator([[0, -1j], [1j, 0]])).real, # Y\n",
    "    new_state.expectation_value(Operator([[1, 0], [0, -1]])).real # Z\n",
    "    ]\n",
    "    return bloch_vector\n",
    "# visualize eigenvalue\n",
    "def plot_complex_nmb(phasors):\n",
    "    # Create a new figure\n",
    "    plt.figure(figsize=(4, 4))\n",
    "    # plot each phasor as a vector\n",
    "    for phasor in phasors:\n",
    "        real = np.real(phasor)\n",
    "        imag = np.imag(phasor)\n",
    "        plt.quiver(0, 0, real, imag, angles='xy', scale_units='xy', scale=1, color='r')\n",
    "        plt.text(real * 1.1, imag * 1.1, f'{phasor:.2f}', fontsize=12)\n",
    "    # set up the plot axes\n",
    "    plt.xlim(-2, 2) # Adjust these limits based on your phasors\n",
    "    plt.ylim(-2, 2)\n",
    "    plt.axhline(0, color='black',linewidth=0.5)\n",
    "    plt.axvline(0, color='black',linewidth=0.5)\n",
    "    plt.xlabel('Real')\n",
    "    plt.ylabel('Imaginary')\n",
    "    plt.grid(True)\n",
    "    plt.gca().set_aspect('equal', adjustable='box')\n",
    "    plt.title('Phasor Diagram')\n",
    "    # show the plot\n",
    "    plt.show()    "
   ]
  },
  {
   "cell_type": "code",
   "execution_count": 181,
   "metadata": {},
   "outputs": [
    {
     "name": "stderr",
     "output_type": "stream",
     "text": [
      "/var/folders/sn/4ym_qb8x0cs_f961d78kvvkc0000gn/T/ipykernel_49922/2352764313.py:24: DeprecationWarning: The class ``qiskit.primitives.sampler.Sampler`` is deprecated as of qiskit 1.2. It will be removed no earlier than 3 months after the release date. All implementations of the `BaseSamplerV1` interface have been deprecated in favor of their V2 counterparts. The V2 alternative for the `Sampler` class is `StatevectorSampler`.\n",
      "  sampler = Sampler()\n"
     ]
    }
   ],
   "source": [
    "phi = np.pi/3\n",
    "theta = 11/12\n",
    "n = 4\n",
    "# create quantum circuit\n",
    "qc = QuantumCircuit(n+1, n)\n",
    "# prepare eigenstate\n",
    "# qc.x(n)\n",
    "qc.h(n)\n",
    "# step 1: prepare ancilla qubit\n",
    "for k in range(n):\n",
    "    qc.h(k)\n",
    "    qc.s(k)\n",
    "# step 2: controlled unitary operations\n",
    "for k in range(n):\n",
    "    repetitions = 2**(k)\n",
    "    qc.crx(repetitions*phi, k , n)\n",
    "    # step 3: apply Hadamard to control qubit\n",
    "    qc.h(k)\n",
    "    qc.barrier()\n",
    "# step 4: measurement\n",
    "for k in range(n):\n",
    "    qc.measure(k,k)\n",
    "qc.draw(output='mpl').savefig(f'kqpe_{n}.pdf')\n",
    "sampler = Sampler()\n",
    "job = sampler.run(circuits=qc, shots=5000)\n",
    "result = job.result()"
   ]
  },
  {
   "cell_type": "code",
   "execution_count": 182,
   "metadata": {},
   "outputs": [
    {
     "name": "stdout",
     "output_type": "stream",
     "text": [
      "Measuremet result: {0: np.float64(0.0378), 1: np.float64(0.0112), 2: np.float64(0.0022), 3: np.float64(0.0012), 4: np.float64(0.0034), 5: np.float64(0.001), 7: np.float64(0.0002), 8: np.float64(0.608), 9: np.float64(0.213), 10: np.float64(0.0442), 11: np.float64(0.017), 12: np.float64(0.0418), 13: np.float64(0.0158), 14: np.float64(0.002), 15: np.float64(0.0012)}\n"
     ]
    }
   ],
   "source": [
    "# get the result counts and convert quasi-probabilities to probabilities\n",
    "counts = result.quasi_dists[0].binary_probabilities()\n",
    "# print result\n",
    "print(\"Measuremet result:\", result.quasi_dists[0])\n",
    "# plot the result as a histogram\n",
    "plt.rc('font', family='serif', serif='Times New Roman')\n",
    "plot_histogram(counts, figsize=(8,4.5)).savefig(f'hist_kqpe_{n}.pdf')"
   ]
  },
  {
   "cell_type": "code",
   "execution_count": 183,
   "metadata": {},
   "outputs": [
    {
     "data": {
      "text/plain": [
       "{'0000': np.float64(0.0378),\n",
       " '0001': np.float64(0.0112),\n",
       " '0010': np.float64(0.0022),\n",
       " '0011': np.float64(0.0012),\n",
       " '0100': np.float64(0.0034),\n",
       " '0101': np.float64(0.001),\n",
       " '0111': np.float64(0.0002),\n",
       " '1000': np.float64(0.608),\n",
       " '1001': np.float64(0.213),\n",
       " '1010': np.float64(0.0442),\n",
       " '1011': np.float64(0.017),\n",
       " '1100': np.float64(0.0418),\n",
       " '1101': np.float64(0.0158),\n",
       " '1110': np.float64(0.002),\n",
       " '1111': np.float64(0.0012)}"
      ]
     },
     "execution_count": 183,
     "metadata": {},
     "output_type": "execute_result"
    }
   ],
   "source": [
    "counts"
   ]
  },
  {
   "cell_type": "code",
   "execution_count": 164,
   "metadata": {},
   "outputs": [],
   "source": [
    "def decimal_to_binary(decimal, precision=5):\n",
    "    \"\"\"\n",
    "    Convert a decimal number in [0, 1) to binary representation.\n",
    "    \n",
    "    Parameters:\n",
    "        decimal (float): The decimal number to convert (must be between 0 and 1).\n",
    "        precision (int): The number of binary places to compute.\n",
    "        \n",
    "    Returns:\n",
    "        str: The binary representation of the decimal number.\n",
    "    \"\"\"\n",
    "    if not (0 <= decimal < 1):\n",
    "        raise ValueError(\"Input should be a decimal between 0 and 1.\")\n",
    "    \n",
    "    binary = \"0.\"\n",
    "    for _ in range(precision):\n",
    "        decimal *= 2\n",
    "        bit = int(decimal)\n",
    "        if bit == 1:\n",
    "            decimal -= bit\n",
    "            binary += \"1\"\n",
    "        else:\n",
    "            binary += \"0\"\n",
    "    return binary\n",
    "\n",
    "def binary_to_decimal(binary_str):\n",
    "    \"\"\"\n",
    "    Convert a binary fractional string (e.g., '0.101') to a decimal number.\n",
    "    \n",
    "    Parameters:\n",
    "        binary_str (str): The binary string to convert (must start with '0.').\n",
    "        \n",
    "    Returns:\n",
    "        float: The decimal representation of the binary fraction.\n",
    "    \"\"\"\n",
    "    if not binary_str.startswith(\"0.\") or any(bit not in '01' for bit in binary_str[2:]):\n",
    "        raise ValueError(\"Input should be a binary string starting with '0.' and containing only '0' and '1' after the decimal point.\")\n",
    "    \n",
    "    decimal = 0.0\n",
    "    for i, bit in enumerate(binary_str[2:], start=1):\n",
    "        decimal += int(bit) * 2**-i\n",
    "    \n",
    "    return decimal"
   ]
  },
  {
   "cell_type": "code",
   "execution_count": 184,
   "metadata": {},
   "outputs": [
    {
     "data": {
      "text/plain": [
       "'0.11101'"
      ]
     },
     "execution_count": 184,
     "metadata": {},
     "output_type": "execute_result"
    }
   ],
   "source": [
    "decimal_to_binary(11/12)"
   ]
  },
  {
   "cell_type": "code",
   "execution_count": 166,
   "metadata": {},
   "outputs": [
    {
     "name": "stderr",
     "output_type": "stream",
     "text": [
      "/var/folders/sn/4ym_qb8x0cs_f961d78kvvkc0000gn/T/ipykernel_49922/2587719164.py:6: DeprecationWarning: The class ``qiskit.primitives.sampler.Sampler`` is deprecated as of qiskit 1.2. It will be removed no earlier than 3 months after the release date. All implementations of the `BaseSamplerV1` interface have been deprecated in favor of their V2 counterparts. The V2 alternative for the `Sampler` class is `StatevectorSampler`.\n",
      "  sampler = Sampler()\n"
     ]
    }
   ],
   "source": [
    "qc_0 = QuantumCircuit(3,3)\n",
    "qc_0.x(0)\n",
    "for i in range(3):\n",
    "    qc_0.measure(i,i)\n",
    "\n",
    "sampler = Sampler()\n",
    "job = sampler.run(circuits=qc_0, shots=5000)\n",
    "result = job.result()"
   ]
  },
  {
   "cell_type": "code",
   "execution_count": 167,
   "metadata": {},
   "outputs": [
    {
     "name": "stdout",
     "output_type": "stream",
     "text": [
      "{'001': np.float64(1.0)}\n"
     ]
    }
   ],
   "source": [
    "counts = result.quasi_dists[0].binary_probabilities()\n",
    "print(counts)"
   ]
  },
  {
   "cell_type": "code",
   "execution_count": null,
   "metadata": {},
   "outputs": [],
   "source": []
  }
 ],
 "metadata": {
  "kernelspec": {
   "display_name": "qiskit",
   "language": "python",
   "name": "python3"
  },
  "language_info": {
   "codemirror_mode": {
    "name": "ipython",
    "version": 3
   },
   "file_extension": ".py",
   "mimetype": "text/x-python",
   "name": "python",
   "nbconvert_exporter": "python",
   "pygments_lexer": "ipython3",
   "version": "3.12.5"
  }
 },
 "nbformat": 4,
 "nbformat_minor": 2
}
